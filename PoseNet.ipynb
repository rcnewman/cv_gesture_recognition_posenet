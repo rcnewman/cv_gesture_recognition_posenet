{
  "nbformat": 4,
  "nbformat_minor": 0,
  "metadata": {
    "colab": {
      "name": "PoseNet",
      "provenance": [],
      "collapsed_sections": [],
      "authorship_tag": "ABX9TyPZ0SW/7u7CkOKzyNoKsMww",
      "include_colab_link": true
    },
    "kernelspec": {
      "name": "python3",
      "display_name": "Python 3"
    }
  },
  "cells": [
    {
      "cell_type": "markdown",
      "metadata": {
        "id": "view-in-github",
        "colab_type": "text"
      },
      "source": [
        "<a href=\"https://colab.research.google.com/github/rcnewman/cv_gesture_recognition_posenet/blob/master/PoseNet.ipynb\" target=\"_parent\"><img src=\"https://colab.research.google.com/assets/colab-badge.svg\" alt=\"Open In Colab\"/></a>"
      ]
    },
    {
      "cell_type": "code",
      "metadata": {
        "id": "4afsWr4n0nJ3",
        "colab_type": "code",
        "colab": {}
      },
      "source": [
        "# PoseNet-python Notebook Source: https://colab.research.google.com/drive/1Ha7-lt-WwcCx961cuatjOzQ-7GLY91aQ#scrollTo=k_qlzhSXN3D7\n",
        "# install\n",
        "!git clone https://github.com/rcnewman/posenet-python.git #fork from https://www.github.com/rwightman/posenet-python \n",
        "%cd posenet-python\n",
        "!pip3 install tensorflow-gpu==1.15\n",
        "!pip3 install scipy\n",
        "!pip3 install pyyaml\n",
        "!pip3 install opencv-python==3.4.5.20\n",
        "!pip3 install ipykernel\n",
        "!pip3 install msgpack-numpy"
      ],
      "execution_count": null,
      "outputs": []
    },
    {
      "cell_type": "code",
      "metadata": {
        "id": "EfwBKf0BOAHM",
        "colab_type": "code",
        "colab": {}
      },
      "source": [
        "#CONFIG\n",
        "max_pose_detections = 3\n",
        "min_pose_score = 0.25\n",
        "min_part_score = 0.25\n",
        "SAVE_KEYPOINTS = True\n",
        "DEBUG = False\n",
        "SAVE_VIDEO = False # Have not gotten output saving working on my end yet TODO: Output saving"
      ],
      "execution_count": 12,
      "outputs": []
    },
    {
      "cell_type": "code",
      "metadata": {
        "id": "m6Q3yqU41lqI",
        "colab_type": "code",
        "colab": {
          "base_uri": "https://localhost:8080/",
          "height": 136
        },
        "outputId": "5631949e-33a3-45a1-f739-761c874b19ba"
      },
      "source": [
        "# PoseNet python sample program\n",
        "import tensorflow as tf\n",
        "import cv2\n",
        "import time\n",
        "import argparse\n",
        "import os\n",
        "import posenet\n",
        "import glob\n",
        "import msgpack\n",
        "import msgpack_numpy as m\n",
        "m.patch() #for handling numpy arrays w/ msgpack\n",
        "print('INIT:')\n",
        "from google.colab import drive\n",
        "drive.mount('/content/drive')\n",
        "drivepath=\"/content/drive/My Drive/POSENET/\"\n",
        "driveinfile = drivepath + 'input.mp4'\n",
        "video_path = glob.glob(drivepath + '/vids/*.mp4')\n",
        "save_video_path = drivepath + '/output_vids/'\n",
        "# VideoReaderWriter\n",
        "\n",
        "width = int(cap.get(cv2.CAP_PROP_FRAME_WIDTH))\n",
        "height = int(cap.get(cv2.CAP_PROP_FRAME_HEIGHT))\n",
        "fps = cap.get(cv2.CAP_PROP_FPS)\n",
        "fourcc = cv2.VideoWriter_fourcc('h','2','6', '4')\n",
        "\n",
        "\n",
        "model = 101\n",
        "###scale_factor = 1.0\n",
        "scale_factor = 0.4\n",
        "\n",
        "with tf.Session() as sess:\n",
        "    print('MODEL-INIT:')\n",
        "    ####model_cfg, model_outputs = posenet.load_model(args.model, sess)\n",
        "    model_cfg, model_outputs = posenet.load_model(model, sess)\n",
        "    output_stride = model_cfg['output_stride']\n",
        "    start = time.time()\n",
        "    print('START:')\n",
        "    for vid in video_path:\n",
        "      cap = cv2.VideoCapture(vid)\n",
        "      incnt = 0\n",
        "      keypoints_save = []\n",
        "      if SAVE_VIDEO:\n",
        "        driveoutfile = save_video_path + os.path.basename(vid)\n",
        "        video = cv2.VideoWriter(driveoutfile, fourcc, fps, (width, height))\n",
        "      while True:\n",
        "          incnt = incnt + 1\n",
        "          try: input_image, draw_image, output_scale = posenet.read_cap(\n",
        "                  cap, scale_factor=scale_factor, output_stride=output_stride)\n",
        "          except:break\n",
        "          heatmaps_result, offsets_result, displacement_fwd_result, displacement_bwd_result = sess.run(\n",
        "              model_outputs,\n",
        "              feed_dict={'image:0': input_image}\n",
        "          )\n",
        "          pose_scores, keypoint_scores, keypoint_coords = posenet.decode_multiple_poses(\n",
        "              heatmaps_result.squeeze(axis=0),\n",
        "              offsets_result.squeeze(axis=0),\n",
        "              displacement_fwd_result.squeeze(axis=0),\n",
        "              displacement_bwd_result.squeeze(axis=0),\n",
        "              output_stride=output_stride,\n",
        "              max_pose_detections=max_pose_detections,\n",
        "              min_pose_score=min_pose_score)\n",
        "\n",
        "          keypoint_coords *= output_scale\n",
        "\n",
        "          if SAVE_KEYPOINTS:\n",
        "            keypoints_save.append(keypoint_coords)\n",
        "          \n",
        "          if SAVE_VIDEO:\n",
        "            draw_image = posenet.draw_skel_and_kp(\n",
        "                    draw_image, pose_scores, keypoint_scores, keypoint_coords,\n",
        "                    min_pose_score=min_pose_score, min_part_score=min_part_score)\n",
        "\n",
        "            video.write(draw_image)\n",
        "\n",
        "          if incnt % 100 == 0:        \n",
        "              print(\"cnt=\", incnt, \"fps=\", incnt / (time.time() - start) )\n",
        "\n",
        "          if DEBUG:\n",
        "              #debug\n",
        "              for pi in range(len(pose_scores)):\n",
        "                  if pose_scores[pi] == 0.:\n",
        "                      break\n",
        "                  print('Pose #%d, score = %f' % (pi, pose_scores[pi]))\n",
        "                  for ki, (s, c) in enumerate(zip(keypoint_scores[pi, :], keypoint_coords[pi, :, :])):\n",
        "                      print('Keypoint %s, score = %f, coord = %s' % (posenet.PART_NAMES[ki], s, c))\n",
        "      \n",
        "      cap.release()\n",
        "\n",
        "      if SAVE_KEYPOINTS:\n",
        "        with open(drivepath +'/keypts/' + os.path.basename(vid) + \"_pts.msgpack\", 'wb') as f:\n",
        "          packed = msgpack.packb(keypoints_save)\n",
        "          f.write(packed)\n",
        "\n",
        "      if SAVE_VIDEO:\n",
        "         video.release()\n",
        "\n",
        "print('END:')\n"
      ],
      "execution_count": 13,
      "outputs": [
        {
          "output_type": "stream",
          "text": [
            "INIT:\n",
            "Drive already mounted at /content/drive; to attempt to forcibly remount, call drive.mount(\"/content/drive\", force_remount=True).\n",
            "MODEL-INIT:\n",
            "START:\n",
            "cnt= 100 fps= 5.3281976313673285\n",
            "cnt= 200 fps= 5.371618801283099\n",
            "END:\n"
          ],
          "name": "stdout"
        }
      ]
    },
    {
      "cell_type": "code",
      "metadata": {
        "id": "dyBPBmZu1qww",
        "colab_type": "code",
        "colab": {}
      },
      "source": [
        ""
      ],
      "execution_count": null,
      "outputs": []
    }
  ]
}