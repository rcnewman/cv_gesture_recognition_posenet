{
  "nbformat": 4,
  "nbformat_minor": 0,
  "metadata": {
    "colab": {
      "name": "PoseNet",
      "provenance": [],
      "collapsed_sections": [],
      "include_colab_link": true
    },
    "kernelspec": {
      "name": "python3",
      "display_name": "Python 3"
    },
    "accelerator": "GPU"
  },
  "cells": [
    {
      "cell_type": "markdown",
      "metadata": {
        "id": "view-in-github",
        "colab_type": "text"
      },
      "source": [
        "<a href=\"https://colab.research.google.com/github/rcnewman/cv_gesture_recognition_posenet/blob/master/PoseNet.ipynb\" target=\"_parent\"><img src=\"https://colab.research.google.com/assets/colab-badge.svg\" alt=\"Open In Colab\"/></a>"
      ]
    },
    {
      "cell_type": "code",
      "metadata": {
        "id": "4afsWr4n0nJ3",
        "colab_type": "code",
        "colab": {
          "base_uri": "https://localhost:8080/",
          "height": 1000
        },
        "outputId": "86791a47-cbe7-49f9-bc59-845753996452"
      },
      "source": [
        "# PoseNet-python Notebook Source: https://colab.research.google.com/drive/1Ha7-lt-WwcCx961cuatjOzQ-7GLY91aQ#scrollTo=k_qlzhSXN3D7\n",
        "# install\n",
        "!git clone https://github.com/rcnewman/posenet-python.git #fork from https://www.github.com/rwightman/posenet-python \n",
        "%cd posenet-python\n",
        "!pip3 install tensorflow-gpu==1.15\n",
        "!pip3 install scipy\n",
        "!pip3 install pyyaml\n",
        "!pip3 install opencv-python\n",
        "!pip3 install ipykernel\n",
        "!pip3 install msgpack-numpy\n",
        "!pip3 install ffmpeg-python"
      ],
      "execution_count": 1,
      "outputs": [
        {
          "output_type": "stream",
          "text": [
            "Cloning into 'posenet-python'...\n",
            "remote: Enumerating objects: 23, done.\u001b[K\n",
            "remote: Counting objects: 100% (23/23), done.\u001b[K\n",
            "remote: Compressing objects: 100% (16/16), done.\u001b[K\n",
            "remote: Total 143 (delta 11), reused 17 (delta 7), pack-reused 120\u001b[K\n",
            "Receiving objects: 100% (143/143), 42.86 KiB | 8.57 MiB/s, done.\n",
            "Resolving deltas: 100% (79/79), done.\n",
            "/content/posenet-python\n",
            "Collecting tensorflow-gpu==1.15\n",
            "\u001b[?25l  Downloading https://files.pythonhosted.org/packages/a5/ad/933140e74973fb917a194ab814785e7c23680ca5dee6d663a509fe9579b6/tensorflow_gpu-1.15.0-cp36-cp36m-manylinux2010_x86_64.whl (411.5MB)\n",
            "\u001b[K     |████████████████████████████████| 411.5MB 42kB/s \n",
            "\u001b[?25hRequirement already satisfied: astor>=0.6.0 in /usr/local/lib/python3.6/dist-packages (from tensorflow-gpu==1.15) (0.8.1)\n",
            "Requirement already satisfied: numpy<2.0,>=1.16.0 in /usr/local/lib/python3.6/dist-packages (from tensorflow-gpu==1.15) (1.18.5)\n",
            "Requirement already satisfied: opt-einsum>=2.3.2 in /usr/local/lib/python3.6/dist-packages (from tensorflow-gpu==1.15) (3.3.0)\n",
            "Requirement already satisfied: protobuf>=3.6.1 in /usr/local/lib/python3.6/dist-packages (from tensorflow-gpu==1.15) (3.12.4)\n",
            "Requirement already satisfied: six>=1.10.0 in /usr/local/lib/python3.6/dist-packages (from tensorflow-gpu==1.15) (1.15.0)\n",
            "Collecting tensorboard<1.16.0,>=1.15.0\n",
            "\u001b[?25l  Downloading https://files.pythonhosted.org/packages/1e/e9/d3d747a97f7188f48aa5eda486907f3b345cd409f0a0850468ba867db246/tensorboard-1.15.0-py3-none-any.whl (3.8MB)\n",
            "\u001b[K     |████████████████████████████████| 3.8MB 55.1MB/s \n",
            "\u001b[?25hCollecting keras-applications>=1.0.8\n",
            "\u001b[?25l  Downloading https://files.pythonhosted.org/packages/71/e3/19762fdfc62877ae9102edf6342d71b28fbfd9dea3d2f96a882ce099b03f/Keras_Applications-1.0.8-py3-none-any.whl (50kB)\n",
            "\u001b[K     |████████████████████████████████| 51kB 8.0MB/s \n",
            "\u001b[?25hRequirement already satisfied: keras-preprocessing>=1.0.5 in /usr/local/lib/python3.6/dist-packages (from tensorflow-gpu==1.15) (1.1.2)\n",
            "Requirement already satisfied: termcolor>=1.1.0 in /usr/local/lib/python3.6/dist-packages (from tensorflow-gpu==1.15) (1.1.0)\n",
            "Requirement already satisfied: grpcio>=1.8.6 in /usr/local/lib/python3.6/dist-packages (from tensorflow-gpu==1.15) (1.32.0)\n",
            "Requirement already satisfied: absl-py>=0.7.0 in /usr/local/lib/python3.6/dist-packages (from tensorflow-gpu==1.15) (0.10.0)\n",
            "Requirement already satisfied: wrapt>=1.11.1 in /usr/local/lib/python3.6/dist-packages (from tensorflow-gpu==1.15) (1.12.1)\n",
            "Requirement already satisfied: wheel>=0.26 in /usr/local/lib/python3.6/dist-packages (from tensorflow-gpu==1.15) (0.35.1)\n",
            "Requirement already satisfied: google-pasta>=0.1.6 in /usr/local/lib/python3.6/dist-packages (from tensorflow-gpu==1.15) (0.2.0)\n",
            "Collecting gast==0.2.2\n",
            "  Downloading https://files.pythonhosted.org/packages/4e/35/11749bf99b2d4e3cceb4d55ca22590b0d7c2c62b9de38ac4a4a7f4687421/gast-0.2.2.tar.gz\n",
            "Collecting tensorflow-estimator==1.15.1\n",
            "\u001b[?25l  Downloading https://files.pythonhosted.org/packages/de/62/2ee9cd74c9fa2fa450877847ba560b260f5d0fb70ee0595203082dafcc9d/tensorflow_estimator-1.15.1-py2.py3-none-any.whl (503kB)\n",
            "\u001b[K     |████████████████████████████████| 512kB 44.1MB/s \n",
            "\u001b[?25hRequirement already satisfied: setuptools in /usr/local/lib/python3.6/dist-packages (from protobuf>=3.6.1->tensorflow-gpu==1.15) (50.3.0)\n",
            "Requirement already satisfied: werkzeug>=0.11.15 in /usr/local/lib/python3.6/dist-packages (from tensorboard<1.16.0,>=1.15.0->tensorflow-gpu==1.15) (1.0.1)\n",
            "Requirement already satisfied: markdown>=2.6.8 in /usr/local/lib/python3.6/dist-packages (from tensorboard<1.16.0,>=1.15.0->tensorflow-gpu==1.15) (3.2.2)\n",
            "Requirement already satisfied: h5py in /usr/local/lib/python3.6/dist-packages (from keras-applications>=1.0.8->tensorflow-gpu==1.15) (2.10.0)\n",
            "Requirement already satisfied: importlib-metadata; python_version < \"3.8\" in /usr/local/lib/python3.6/dist-packages (from markdown>=2.6.8->tensorboard<1.16.0,>=1.15.0->tensorflow-gpu==1.15) (1.7.0)\n",
            "Requirement already satisfied: zipp>=0.5 in /usr/local/lib/python3.6/dist-packages (from importlib-metadata; python_version < \"3.8\"->markdown>=2.6.8->tensorboard<1.16.0,>=1.15.0->tensorflow-gpu==1.15) (3.1.0)\n",
            "Building wheels for collected packages: gast\n",
            "  Building wheel for gast (setup.py) ... \u001b[?25l\u001b[?25hdone\n",
            "  Created wheel for gast: filename=gast-0.2.2-cp36-none-any.whl size=7542 sha256=0d49ec8ea62cd1c9dee691259d6f2ed83972c4c8720051b3574e264615e461f8\n",
            "  Stored in directory: /root/.cache/pip/wheels/5c/2e/7e/a1d4d4fcebe6c381f378ce7743a3ced3699feb89bcfbdadadd\n",
            "Successfully built gast\n",
            "\u001b[31mERROR: tensorflow 2.3.0 has requirement gast==0.3.3, but you'll have gast 0.2.2 which is incompatible.\u001b[0m\n",
            "\u001b[31mERROR: tensorflow 2.3.0 has requirement tensorboard<3,>=2.3.0, but you'll have tensorboard 1.15.0 which is incompatible.\u001b[0m\n",
            "\u001b[31mERROR: tensorflow 2.3.0 has requirement tensorflow-estimator<2.4.0,>=2.3.0, but you'll have tensorflow-estimator 1.15.1 which is incompatible.\u001b[0m\n",
            "\u001b[31mERROR: tensorflow-probability 0.11.0 has requirement gast>=0.3.2, but you'll have gast 0.2.2 which is incompatible.\u001b[0m\n",
            "Installing collected packages: tensorboard, keras-applications, gast, tensorflow-estimator, tensorflow-gpu\n",
            "  Found existing installation: tensorboard 2.3.0\n",
            "    Uninstalling tensorboard-2.3.0:\n",
            "      Successfully uninstalled tensorboard-2.3.0\n",
            "  Found existing installation: gast 0.3.3\n",
            "    Uninstalling gast-0.3.3:\n",
            "      Successfully uninstalled gast-0.3.3\n",
            "  Found existing installation: tensorflow-estimator 2.3.0\n",
            "    Uninstalling tensorflow-estimator-2.3.0:\n",
            "      Successfully uninstalled tensorflow-estimator-2.3.0\n",
            "Successfully installed gast-0.2.2 keras-applications-1.0.8 tensorboard-1.15.0 tensorflow-estimator-1.15.1 tensorflow-gpu-1.15.0\n",
            "Requirement already satisfied: scipy in /usr/local/lib/python3.6/dist-packages (1.4.1)\n",
            "Requirement already satisfied: numpy>=1.13.3 in /usr/local/lib/python3.6/dist-packages (from scipy) (1.18.5)\n",
            "Requirement already satisfied: pyyaml in /usr/local/lib/python3.6/dist-packages (3.13)\n",
            "Requirement already satisfied: opencv-python in /usr/local/lib/python3.6/dist-packages (4.1.2.30)\n",
            "Requirement already satisfied: numpy>=1.11.3 in /usr/local/lib/python3.6/dist-packages (from opencv-python) (1.18.5)\n",
            "Requirement already satisfied: ipykernel in /usr/local/lib/python3.6/dist-packages (4.10.1)\n",
            "Requirement already satisfied: tornado>=4.0 in /usr/local/lib/python3.6/dist-packages (from ipykernel) (5.1.1)\n",
            "Requirement already satisfied: ipython>=4.0.0 in /usr/local/lib/python3.6/dist-packages (from ipykernel) (5.5.0)\n",
            "Requirement already satisfied: jupyter-client in /usr/local/lib/python3.6/dist-packages (from ipykernel) (5.3.5)\n",
            "Requirement already satisfied: traitlets>=4.1.0 in /usr/local/lib/python3.6/dist-packages (from ipykernel) (4.3.3)\n",
            "Requirement already satisfied: prompt-toolkit<2.0.0,>=1.0.4 in /usr/local/lib/python3.6/dist-packages (from ipython>=4.0.0->ipykernel) (1.0.18)\n",
            "Requirement already satisfied: pygments in /usr/local/lib/python3.6/dist-packages (from ipython>=4.0.0->ipykernel) (2.6.1)\n",
            "Requirement already satisfied: decorator in /usr/local/lib/python3.6/dist-packages (from ipython>=4.0.0->ipykernel) (4.4.2)\n",
            "Requirement already satisfied: pickleshare in /usr/local/lib/python3.6/dist-packages (from ipython>=4.0.0->ipykernel) (0.7.5)\n",
            "Requirement already satisfied: simplegeneric>0.8 in /usr/local/lib/python3.6/dist-packages (from ipython>=4.0.0->ipykernel) (0.8.1)\n",
            "Requirement already satisfied: setuptools>=18.5 in /usr/local/lib/python3.6/dist-packages (from ipython>=4.0.0->ipykernel) (50.3.0)\n",
            "Requirement already satisfied: pexpect; sys_platform != \"win32\" in /usr/local/lib/python3.6/dist-packages (from ipython>=4.0.0->ipykernel) (4.8.0)\n",
            "Requirement already satisfied: python-dateutil>=2.1 in /usr/local/lib/python3.6/dist-packages (from jupyter-client->ipykernel) (2.8.1)\n",
            "Requirement already satisfied: pyzmq>=13 in /usr/local/lib/python3.6/dist-packages (from jupyter-client->ipykernel) (19.0.2)\n",
            "Requirement already satisfied: jupyter-core>=4.6.0 in /usr/local/lib/python3.6/dist-packages (from jupyter-client->ipykernel) (4.6.3)\n",
            "Requirement already satisfied: six in /usr/local/lib/python3.6/dist-packages (from traitlets>=4.1.0->ipykernel) (1.15.0)\n",
            "Requirement already satisfied: ipython-genutils in /usr/local/lib/python3.6/dist-packages (from traitlets>=4.1.0->ipykernel) (0.2.0)\n",
            "Requirement already satisfied: wcwidth in /usr/local/lib/python3.6/dist-packages (from prompt-toolkit<2.0.0,>=1.0.4->ipython>=4.0.0->ipykernel) (0.2.5)\n",
            "Requirement already satisfied: ptyprocess>=0.5 in /usr/local/lib/python3.6/dist-packages (from pexpect; sys_platform != \"win32\"->ipython>=4.0.0->ipykernel) (0.6.0)\n",
            "Collecting msgpack-numpy\n",
            "  Downloading https://files.pythonhosted.org/packages/57/8c/901d65deb827c0d9f7680ea808a0d63eab71fbfac5c6a868b6c9e92be4cb/msgpack_numpy-0.4.7-py2.py3-none-any.whl\n",
            "Requirement already satisfied: msgpack>=0.5.2 in /usr/local/lib/python3.6/dist-packages (from msgpack-numpy) (1.0.0)\n",
            "Requirement already satisfied: numpy>=1.9.0 in /usr/local/lib/python3.6/dist-packages (from msgpack-numpy) (1.18.5)\n",
            "Installing collected packages: msgpack-numpy\n",
            "Successfully installed msgpack-numpy-0.4.7\n",
            "Collecting ffmpeg-python\n",
            "  Downloading https://files.pythonhosted.org/packages/d7/0c/56be52741f75bad4dc6555991fabd2e07b432d333da82c11ad701123888a/ffmpeg_python-0.2.0-py3-none-any.whl\n",
            "Requirement already satisfied: future in /usr/local/lib/python3.6/dist-packages (from ffmpeg-python) (0.16.0)\n",
            "Installing collected packages: ffmpeg-python\n",
            "Successfully installed ffmpeg-python-0.2.0\n"
          ],
          "name": "stdout"
        }
      ]
    },
    {
      "cell_type": "code",
      "metadata": {
        "id": "EfwBKf0BOAHM",
        "colab_type": "code",
        "colab": {}
      },
      "source": [
        "#CONFIG\n",
        "max_pose_detections = 1\n",
        "min_pose_score = 0.25\n",
        "min_part_score = 0.25\n",
        "SAVE_KEYPOINTS = True\n",
        "DEBUG = False\n",
        "SAVE_VIDEO = True"
      ],
      "execution_count": 14,
      "outputs": []
    },
    {
      "cell_type": "code",
      "metadata": {
        "id": "qiAT_qmmcYFP",
        "colab_type": "code",
        "colab": {}
      },
      "source": [
        "import ffmpeg    \n",
        "# Fix rotation, code from https://stackoverflow.com/questions/53097092/frame-from-video-is-upside-down-after-extracting\n",
        "def check_rotation(path_video_file):\n",
        "    # this returns meta-data of the video file in form of a dictionary\n",
        "    meta_dict = ffmpeg.probe(path_video_file)\n",
        "\n",
        "    # from the dictionary, meta_dict['streams'][0]['tags']['rotate'] is the key\n",
        "    # we are looking for\n",
        "    rotateCode = None\n",
        "    if 'rotate' in meta_dict['streams'][0]['tags']:\n",
        "      if int(meta_dict['streams'][0]['tags']['rotate']) == 90:\n",
        "          rotateCode = cv2.ROTATE_90_CLOCKWISE\n",
        "      elif int(meta_dict['streams'][0]['tags']['rotate']) == 180:\n",
        "          rotateCode = cv2.ROTATE_180\n",
        "      elif int(meta_dict['streams'][0]['tags']['rotate']) == 270:\n",
        "          rotateCode = cv2.ROTATE_90_COUNTERCLOCKWISE\n",
        "\n",
        "    return rotateCode\n",
        "\n",
        "def correct_rotation(frame, rotateCode):  \n",
        "    return cv2.rotate(frame, rotateCode) "
      ],
      "execution_count": 3,
      "outputs": []
    },
    {
      "cell_type": "code",
      "metadata": {
        "id": "TTEnUCZPodtV",
        "colab_type": "code",
        "colab": {
          "base_uri": "https://localhost:8080/",
          "height": 70
        },
        "outputId": "69048d8e-e642-4cf6-fd0a-d4843f1e38f4"
      },
      "source": [
        "# PoseNet python sample program initialization\n",
        "import tensorflow as tf\n",
        "import cv2\n",
        "import time\n",
        "import argparse\n",
        "import os\n",
        "import posenet\n",
        "import glob\n",
        "import msgpack\n",
        "import msgpack_numpy as m\n",
        "m.patch() #for handling numpy arrays w/ msgpack\n",
        "print('INIT:')\n",
        "from google.colab import drive\n",
        "drive.mount('/content/drive')\n",
        "drivepath=\"/content/drive/My Drive/POSENET/\"\n",
        "# driveinfile = drivepath + 'input.mp4'\n",
        "video_path = glob.glob(drivepath + 'vids/*.mp4')\n",
        "save_video_path = drivepath + 'output_vids/'\n",
        "keypts_path = drivepath +'keypts/'\n",
        "labels_path = drivepath +'gesture_labels/'\n",
        "# VideoReaderWriter\n",
        "fourcc = cv2.VideoWriter_fourcc(*'mp4v')\n",
        "\n",
        "font = cv2.FONT_HERSHEY_SIMPLEX \n",
        "org = (5, 30) \n",
        "fontScale = 1\n",
        "color = (0, 255, 0) \n",
        "thickness = 2\n",
        "   \n",
        "model = 101\n",
        "###scale_factor = 1.0\n",
        "scale_factor = 0.4"
      ],
      "execution_count": 19,
      "outputs": [
        {
          "output_type": "stream",
          "text": [
            "INIT:\n",
            "Drive already mounted at /content/drive; to attempt to forcibly remount, call drive.mount(\"/content/drive\", force_remount=True).\n"
          ],
          "name": "stdout"
        }
      ]
    },
    {
      "cell_type": "code",
      "metadata": {
        "id": "m6Q3yqU41lqI",
        "colab_type": "code",
        "colab": {
          "base_uri": "https://localhost:8080/",
          "height": 284
        },
        "outputId": "78db5bc0-f4b6-4d0e-8ef3-e7c5472a3417"
      },
      "source": [
        "# PoseNet python sample program run\n",
        "\n",
        "with tf.Session() as sess:\n",
        "    print('MODEL-INIT:')\n",
        "    ####model_cfg, model_outputs = posenet.load_model(args.model, sess)\n",
        "    model_cfg, model_outputs = posenet.load_model(model, sess)\n",
        "    output_stride = model_cfg['output_stride']\n",
        "    start = time.time()\n",
        "    print('START:')\n",
        "    for vid in video_path:\n",
        "      cap = cv2.VideoCapture(vid)\n",
        "\n",
        "      rotateCode = check_rotation(vid)\n",
        "\n",
        "      incnt = 0\n",
        "      keypoints_save = []\n",
        "      if SAVE_VIDEO:\n",
        "        width = int(cap.get(cv2.CAP_PROP_FRAME_WIDTH))\n",
        "        height = int(cap.get(cv2.CAP_PROP_FRAME_HEIGHT))\n",
        "        fps = cap.get(cv2.CAP_PROP_FPS)\n",
        "        driveoutfile = save_video_path + os.path.basename(vid)\n",
        "        video = cv2.VideoWriter(driveoutfile, fourcc, fps, (width, height))\n",
        "      while True:\n",
        "          incnt = incnt + 1\n",
        "          try: input_image, draw_image, output_scale = posenet.read_cap(\n",
        "                  cap, scale_factor=scale_factor, output_stride=output_stride,rotate_code=rotateCode)\n",
        "          except:break\n",
        "          heatmaps_result, offsets_result, displacement_fwd_result, displacement_bwd_result = sess.run(\n",
        "              model_outputs,\n",
        "              feed_dict={'image:0': input_image}\n",
        "          )\n",
        "          pose_scores, keypoint_scores, keypoint_coords = posenet.decode_multiple_poses(\n",
        "              heatmaps_result.squeeze(axis=0),\n",
        "              offsets_result.squeeze(axis=0),\n",
        "              displacement_fwd_result.squeeze(axis=0),\n",
        "              displacement_bwd_result.squeeze(axis=0),\n",
        "              output_stride=output_stride,\n",
        "              max_pose_detections=max_pose_detections,\n",
        "              min_pose_score=min_pose_score)\n",
        "\n",
        "          keypoint_coords *= output_scale\n",
        "\n",
        "          if SAVE_KEYPOINTS:\n",
        "            keypoints_save.append(keypoint_coords)\n",
        "          \n",
        "          if SAVE_VIDEO:\n",
        "            draw_image = posenet.draw_skel_and_kp(\n",
        "                    draw_image, pose_scores, keypoint_scores, keypoint_coords,\n",
        "                    min_pose_score=min_pose_score, min_part_score=min_part_score)\n",
        "            draw_image = cv2.putText(draw_image, str(incnt), org, font,  \n",
        "                   fontScale, color, thickness, cv2.LINE_AA)\n",
        "            video.write(draw_image)\n",
        "          if incnt % 100 == 0:        \n",
        "              print(\"cnt=\", incnt, \"fps=\", incnt / (time.time() - start) )\n",
        "\n",
        "          if DEBUG:\n",
        "              #debug\n",
        "              for pi in range(len(pose_scores)):\n",
        "                  if pose_scores[pi] == 0.:\n",
        "                      break\n",
        "                  print('Pose #%d, score = %f' % (pi, pose_scores[pi]))\n",
        "                  for ki, (s, c) in enumerate(zip(keypoint_scores[pi, :], keypoint_coords[pi, :, :])):\n",
        "                      print('Keypoint %s, score = %f, coord = %s' % (posenet.PART_NAMES[ki], s, c))\n",
        "      \n",
        "      cap.release()\n",
        "\n",
        "      if SAVE_KEYPOINTS:\n",
        "        with open(keypts_path + os.path.basename(vid)[0:-4] + \"_pts.msgpack\", 'wb') as f:\n",
        "          packed = msgpack.packb(keypoints_save)\n",
        "          f.write(packed)\n",
        "\n",
        "      if SAVE_VIDEO:\n",
        "         print(os.path.basename(vid)[0:-4])\n",
        "         video.release()\n",
        "\n",
        "print('END:')\n"
      ],
      "execution_count": 20,
      "outputs": [
        {
          "output_type": "stream",
          "text": [
            "MODEL-INIT:\n",
            "START:\n",
            "cnt= 100 fps= 33.64268348732395\n",
            "cnt= 200 fps= 36.81344855616648\n",
            "input\n",
            "Copy of VID_20200909_222404\n",
            "Copy of VID_20200909_223009\n",
            "Copy of VID_20200909_222531 (2)\n",
            "Copy of VID_20200909_222722\n",
            "Copy of VID_20200909_223040\n",
            "Copy of VID_20200909_222603\n",
            "Copy of VID_20200909_222433\n",
            "Copy of VID_20200909_222221\n",
            "Copy of VID_20200909_222658\n",
            "Copy of VID_20200909_222151\n",
            "END:\n"
          ],
          "name": "stdout"
        }
      ]
    },
    {
      "cell_type": "code",
      "metadata": {
        "id": "iaWmO_WYcLsV",
        "colab_type": "code",
        "colab": {
          "base_uri": "https://localhost:8080/",
          "height": 221
        },
        "outputId": "acb1a1b3-3ce0-4f22-c21e-27ed015f0c04"
      },
      "source": [
        "import pandas as pd\n",
        "import pickle\n",
        "labels_path = drivepath +'gesture_labels/'\n",
        "for vid in video_path:\n",
        "    cap = cv2.VideoCapture(vid)\n",
        "    length = int(cap.get(cv2.CAP_PROP_FRAME_COUNT))\n",
        "    labels=[0]*length\n",
        "    try:\n",
        "        df=pd.read_csv(labels_path + os.path.basename(vid)[0:-4] + \".csv\",names=[\"start\",\"end\",\"label\"])\n",
        "        for i,row in df.iterrows():\n",
        "            labels[row.start:row.end]=[row.label]*(row.end-row.start)\n",
        "        print(labels)\n",
        "    except:\n",
        "        print(os.path.basename(vid)+\"is missing the label file\")\n",
        "    with open(labels_path + os.path.basename(vid)[0:-4] + \".pickle\",\"wb\") as f:\n",
        "        pickle.dump(labels,f)\n"
      ],
      "execution_count": 6,
      "outputs": [
        {
          "output_type": "stream",
          "text": [
            "[0, 0, 0, 0, 0, 5, 5, 5, 5, 5, 5, 5, 5, 5, 5, 5, 5, 5, 5, 5, 5, 5, 5, 5, 5, 5, 5, 5, 5, 5, 5, 0, 0, 0, 0, 0, 0, 0, 0, 0, 0, 0, 0, 0, 0, 0, 0, 0, 0, 0, 3, 3, 3, 3, 3, 3, 3, 3, 3, 3, 3, 3, 3, 3, 3, 3, 3, 3, 3, 3, 3, 3, 3, 3, 3, 3, 3, 3, 3, 3, 3, 3, 3, 3, 3, 3, 3, 3, 3, 0, 0, 0, 0, 0, 0, 0, 0, 0, 0, 0, 0, 0, 0, 0, 0, 0, 0, 0, 0, 0, 0, 0, 0, 0, 0, 0, 0, 0, 0, 0, 0, 0, 0, 0, 0, 0, 0, 0, 0, 0, 0, 0, 0, 0, 0, 0, 0, 0, 0, 0, 0, 0, 0, 0, 0, 0, 0, 0, 0, 0, 0, 0, 0, 0, 0, 0, 0, 0, 0, 0, 0, 0, 0, 0, 0, 0, 0, 0, 0, 0, 0, 0, 0, 0, 0, 0, 0, 0, 0, 0, 0, 0, 0, 0, 0, 0, 0, 0, 0, 0, 0, 0, 0, 0, 0, 0, 0, 0, 0, 0, 0, 0, 0, 0, 0, 0, 0, 0, 0, 0, 0, 0, 0, 0, 0, 0, 0, 0, 0, 0, 0, 0, 0, 0, 0, 0, 0, 0, 0, 0, 0, 0, 0, 0, 0, 0, 0, 0, 0, 0, 0, 0, 0, 0, 0, 0, 0, 0, 0, 0, 0, 0, 0, 0, 0, 0, 0, 0, 0, 0, 0, 0, 0, 0, 0, 0, 0, 0, 0, 0, 0, 0]\n",
            "Copy of VID_20200909_222404.mp4is missing the label file\n",
            "Copy of VID_20200909_223009.mp4is missing the label file\n",
            "Copy of VID_20200909_222531 (2).mp4is missing the label file\n",
            "Copy of VID_20200909_222722.mp4is missing the label file\n",
            "Copy of VID_20200909_223040.mp4is missing the label file\n",
            "Copy of VID_20200909_222603.mp4is missing the label file\n",
            "Copy of VID_20200909_222433.mp4is missing the label file\n",
            "Copy of VID_20200909_222221.mp4is missing the label file\n",
            "Copy of VID_20200909_222658.mp4is missing the label file\n",
            "Copy of VID_20200909_222151.mp4is missing the label file\n"
          ],
          "name": "stdout"
        }
      ]
    },
    {
      "cell_type": "code",
      "metadata": {
        "id": "mu7uJWCzlXyU",
        "colab_type": "code",
        "colab": {}
      },
      "source": [
        "# Classes ---------------------------------------------------------------------\n",
        "class KerasBatchGenerator(object):\n",
        "\n",
        "    def __init__(self, file_list, batch_size,steps,jump=1):\n",
        "        self.file_list = file_list\n",
        "        self.batch_size = batch_size\n",
        "        self.steps=steps\n",
        "        self.current_idx = 0\n",
        "        self.current_file=0\n",
        "        self.data=None\n",
        "        self.label=None\n",
        "        self.limit=0\n",
        "        self.gestures=11\n",
        "        self.jump=jump\n",
        "        self.keypoint_number=17*2\n",
        "    def generate(self):\n",
        "        # Load June 1st data.\n",
        "        with open(keypts_path + self.file_list[self.current_file] + \"_pts.msgpack\", \"rb\") as data_file:\n",
        "            byte_data = data_file.read()\n",
        "        self.data = msgpack.unpackb(byte_data)\n",
        "        self.limit = len(self.data)\n",
        "        with open(labels_path + self.file_list[self.current_file] + \".pickle\", \"rb\") as label_file:\n",
        "            self.label=pickle.load(label_file)\n",
        "        while True:\n",
        "            \n",
        "            # Build empty matricies.\n",
        "            #y = np.zeros((self.batch_size, self.steps))\n",
        "            y = np.zeros((self.batch_size,self.steps, self.gestures))\n",
        "            keypoints = np.zeros((self.batch_size, self.steps, self.keypoint_number))\n",
        "\n",
        "            # Iterate through all files.\n",
        "            for i in range(self.batch_size):\n",
        "                if self.current_idx + self.steps + 1 >= self.limit:\n",
        "                    self.current_file += 1\n",
        "                    if(self.current_file >= len(self.file_list)):\n",
        "                        self.current_file =0\n",
        "                    with open(keypts_path + self.file_list[self.current_file] + \"_pts.msgpack\", \"rb\") as data_file:\n",
        "                        byte_data = data_file.read()\n",
        "                    self.data = msgpack.unpackb(byte_data)\n",
        "                    self.limit = len(self.data)\n",
        "                    self.current_idx = 0\n",
        "                    with open(labels_path + self.file_list[self.current_file] + \".pickle\", \"rb\") as label_file:\n",
        "                        self.label=pickle.load(label_file)\n",
        "                for k in range(self.steps):\n",
        "                    keypoints[i][k][:] = self.data[self.current_idx+k][0].flatten()\n",
        "                    y[i][k][:] = tf.keras.utils.to_categorical(self.label[self.current_idx+k],num_classes=self.gestures)\n",
        "                #### we need to decide on a syntax for the gesture time stamps and use it in label generation\n",
        "                self.current_idx += self.jump\n",
        "            x = keypoints\n",
        "            yield x, y\n",
        "            \n"
      ],
      "execution_count": 7,
      "outputs": []
    },
    {
      "cell_type": "code",
      "metadata": {
        "id": "agMQqHEisGcR",
        "colab_type": "code",
        "colab": {
          "base_uri": "https://localhost:8080/",
          "height": 438
        },
        "outputId": "41bb133c-6e8b-4b27-8ca5-0baf8dbee76d"
      },
      "source": [
        "from tensorflow import keras\n",
        "import os\n",
        "import numpy as np\n",
        "# Global Variables ------------------------------------------------------------\n",
        "batch_size = 64\n",
        "steps = 24\n",
        "jump=8\n",
        "keypoint_number=17*2\n",
        "lstm_cels=keypoint_number\n",
        "gesture_number=11\n",
        "num_epochs=1\n",
        "training_keypoints=[\"input\" ]\n",
        "valid_keypoints=[\"input\" ]\n",
        "\n",
        "train_data_generator = KerasBatchGenerator(training_keypoints, batch_size, steps,jump)\n",
        "valid_data_generator = KerasBatchGenerator(valid_keypoints, batch_size, steps,jump)\n",
        "\n",
        "# Set Up GPU ------------------------------------------------------------------\n",
        "# os.environ[\"CUDA_DEVICE_ORDER\"] = \"PCI_BUS_ID\";\n",
        "# os.environ[\"CUDA_VISIBLE_DEVICES\"] = \"0\";\n",
        "\n",
        "# Build Models ----------------------------------------------------------------\n",
        "save_location='/content/drive/My Drive/POSENET/Experiments/ALL_LSTM_01'\n",
        "saveFiles = ([name for name in os.listdir(save_location)])\n",
        "initial_epoch = len(saveFiles)\n",
        "if(len(saveFiles) > 0):\n",
        "    if(len(saveFiles) > 9):\n",
        "        model = tf.keras.models.load_model(save_location+\"/model-\"+str(len(saveFiles))+\".hdf5\")\n",
        "    else:\n",
        "        model = tf.keras.models.load_model(save_location+\"/model-0\"+str(len(saveFiles))+\".hdf5\")\n",
        "    print(model.summary(90))\n",
        "else:\n",
        "    print(\"else\")\n",
        "    \n",
        "    # Build input shapes.\n",
        "    keypointInput = keras.layers.Input(shape=(steps, keypoint_number))\n",
        "\n",
        "    \n",
        "    # Build lstm layers.\n",
        "    masking_layer = keras.layers.Masking(mask_value=0)(keypointInput)\n",
        "    keypoint = keras.layers.LSTM(lstm_cels, return_sequences=True)(masking_layer)\n",
        "    # Build dense layer\n",
        "    dense_layer = keras.layers.Dense(gesture_number, activation='sigmoid')\n",
        "    dense_layer2 = keras.layers.Dense(gesture_number, activation='softmax')\n",
        "    gesture = keras.layers.TimeDistributed(dense_layer)(keypoint)\n",
        "    softmax = keras.layers.TimeDistributed(dense_layer2)(gesture)\n",
        "    \n",
        "    \n",
        "    model = keras.Model(inputs=keypointInput, outputs=softmax)\n",
        "    print(model.summary(90))\n",
        "    \n",
        "# Weight and train model.\n",
        "model.compile(loss='categorical_crossentropy',\n",
        "              optimizer='adam',metrics=['accuracy','categorical_crossentropy'])\n",
        "checkpointer = tf.keras.callbacks.ModelCheckpoint(filepath=save_location+'/concat-{epoch:02d}.hdf5', verbose=1)\n",
        "model.fit_generator(train_data_generator.generate(), 100, num_epochs,\n",
        "                    validation_data=valid_data_generator.generate(),validation_steps=10,\n",
        "                    callbacks=[checkpointer] ,\n",
        "                    shuffle=False,initial_epoch=initial_epoch)"
      ],
      "execution_count": 11,
      "outputs": [
        {
          "output_type": "stream",
          "text": [
            "else\n",
            "Model: \"model_1\"\n",
            "__________________________________________________________________________________________\n",
            "Layer (type)                            Output Shape                        Param #       \n",
            "==========================================================================================\n",
            "input_2 (InputLayer)                    [(None, 24, 34)]                    0             \n",
            "__________________________________________________________________________________________\n",
            "masking_1 (Masking)                     (None, 24, 34)                      0             \n",
            "__________________________________________________________________________________________\n",
            "lstm_1 (LSTM)                           (None, 24, 34)                      9384          \n",
            "__________________________________________________________________________________________\n",
            "time_distributed_1 (TimeDistributed)    (None, 24, 11)                      385           \n",
            "__________________________________________________________________________________________\n",
            "time_distributed_2 (TimeDistributed)    (None, 24, 11)                      132           \n",
            "==========================================================================================\n",
            "Total params: 9,901\n",
            "Trainable params: 9,901\n",
            "Non-trainable params: 0\n",
            "__________________________________________________________________________________________\n",
            "None\n",
            "  9/100 [=>............................] - ETA: 6s - loss: 1.2766 - acc: 0.7512 - categorical_crossentropy: 1.2766\n",
            "Epoch 00001: saving model to /content/drive/My Drive/POSENET/Experiments/ALL_LSTM_01/concat-01.hdf5\n",
            "100/100 [==============================] - 9s 91ms/step - loss: 1.7350 - acc: 0.4953 - categorical_crossentropy: 1.7350 - val_loss: 1.2755 - val_acc: 0.7525 - val_categorical_crossentropy: 1.2755\n"
          ],
          "name": "stdout"
        },
        {
          "output_type": "execute_result",
          "data": {
            "text/plain": [
              "<tensorflow.python.keras.callbacks.History at 0x7f776bdceeb8>"
            ]
          },
          "metadata": {
            "tags": []
          },
          "execution_count": 11
        }
      ]
    },
    {
      "cell_type": "code",
      "metadata": {
        "id": "xueeqG-Z_sMG",
        "colab_type": "code",
        "colab": {
          "base_uri": "https://localhost:8080/",
          "height": 533
        },
        "outputId": "69aa84e3-9991-45af-b717-673e87f18950"
      },
      "source": [
        "tf.keras.utils.plot_model(model,show_shapes=True,expand_nested=True,)"
      ],
      "execution_count": 13,
      "outputs": [
        {
          "output_type": "execute_result",
          "data": {
            "image/png": "[encoded data removed]",
            "text/plain": [
              "<IPython.core.display.Image object>"
            ]
          },
          "metadata": {
            "tags": []
          },
          "execution_count": 13
        }
      ]
    }
  ]
}